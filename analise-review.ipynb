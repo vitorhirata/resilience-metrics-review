{
 "cells": [
  {
   "cell_type": "code",
   "execution_count": 1,
   "id": "c37c8c6d",
   "metadata": {},
   "outputs": [],
   "source": [
    "import pandas as pd\n",
    "import numpy as np\n",
    "import matplotlib.pyplot as plt"
   ]
  },
  {
   "cell_type": "code",
   "execution_count": 78,
   "id": "09025dd8",
   "metadata": {},
   "outputs": [],
   "source": [
    "df = pd.read_csv('references.csv')"
   ]
  },
  {
   "cell_type": "code",
   "execution_count": 80,
   "id": "ea56d800",
   "metadata": {},
   "outputs": [
    {
     "name": "stdout",
     "output_type": "stream",
     "text": [
      "<class 'pandas.core.frame.DataFrame'>\n",
      "RangeIndex: 11928 entries, 0 to 11927\n",
      "Data columns (total 36 columns):\n",
      " #   Column                      Non-Null Count  Dtype  \n",
      "---  ------                      --------------  -----  \n",
      " 0   Unnamed: 0                  11928 non-null  int64  \n",
      " 1   Publication Type            11928 non-null  object \n",
      " 2   Authors                     11927 non-null  object \n",
      " 3   Author Full Names           11927 non-null  object \n",
      " 4   Group Authors               79 non-null     object \n",
      " 5   Article Title               11928 non-null  object \n",
      " 6   Source Title                11928 non-null  object \n",
      " 7   Language                    11928 non-null  object \n",
      " 8   Document Type               11928 non-null  object \n",
      " 9   Author Keywords             10198 non-null  object \n",
      " 10  Keywords Plus               10793 non-null  object \n",
      " 11  Cited References            11901 non-null  object \n",
      " 12  Cited Reference Count       11928 non-null  int64  \n",
      " 13  Times Cited, WoS Core       11928 non-null  int64  \n",
      " 14  Times Cited, All Databases  11928 non-null  int64  \n",
      " 15  180 Day Usage Count         11928 non-null  int64  \n",
      " 16  Since 2013 Usage Count      11928 non-null  int64  \n",
      " 17  ISSN                        10329 non-null  object \n",
      " 18  eISSN                       8845 non-null   object \n",
      " 19  Publication Date            9666 non-null   object \n",
      " 20  Publication Year            11543 non-null  float64\n",
      " 21  Volume                      10726 non-null  object \n",
      " 22  Issue                       7272 non-null   object \n",
      " 23  Part Number                 112 non-null    object \n",
      " 24  Supplement                  82 non-null     object \n",
      " 25  Special Issue               607 non-null    object \n",
      " 26  Start Page                  7344 non-null   object \n",
      " 27  End Page                    7344 non-null   object \n",
      " 28  Article Number              4161 non-null   object \n",
      " 29  DOI                         11148 non-null  object \n",
      " 30  DOI Link                    11148 non-null  object \n",
      " 31  Early Access Date           2020 non-null   object \n",
      " 32  WoS Categories              11924 non-null  object \n",
      " 33  Research Areas              11924 non-null  object \n",
      " 34  Open Access Designations    5992 non-null   object \n",
      " 35  Date of Export              11928 non-null  object \n",
      "dtypes: float64(1), int64(6), object(29)\n",
      "memory usage: 3.3+ MB\n"
     ]
    }
   ],
   "source": [
    "df.info()"
   ]
  },
  {
   "cell_type": "code",
   "execution_count": null,
   "id": "34db8308",
   "metadata": {},
   "outputs": [],
   "source": []
  }
 ],
 "metadata": {
  "kernelspec": {
   "display_name": "Python 3",
   "language": "python",
   "name": "python3"
  },
  "language_info": {
   "codemirror_mode": {
    "name": "ipython",
    "version": 3
   },
   "file_extension": ".py",
   "mimetype": "text/x-python",
   "name": "python",
   "nbconvert_exporter": "python",
   "pygments_lexer": "ipython3",
   "version": "3.6.9"
  }
 },
 "nbformat": 4,
 "nbformat_minor": 5
}
