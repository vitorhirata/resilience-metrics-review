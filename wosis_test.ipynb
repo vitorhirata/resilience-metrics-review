{
 "cells": [
  {
   "cell_type": "code",
   "execution_count": 1,
   "id": "dfb3f40f",
   "metadata": {},
   "outputs": [
    {
     "name": "stdout",
     "output_type": "stream",
     "text": [
      "['/home/vitor/nltk_data', '/usr/nltk_data', '/usr/share/nltk_data', '/usr/lib/nltk_data', '/usr/share/nltk_data', '/usr/local/share/nltk_data', '/usr/lib/nltk_data', '/usr/local/lib/nltk_data']\n"
     ]
    },
    {
     "name": "stderr",
     "output_type": "stream",
     "text": [
      "[nltk_data] Downloading package wordnet to /home/vitor/nltk_data...\n",
      "[nltk_data]   Package wordnet is already up-to-date!\n",
      "/usr/local/lib/python3.6/dist-packages/fuzzywuzzy/fuzz.py:11: UserWarning: Using slow pure-python SequenceMatcher. Install python-Levenshtein to remove this warning\n",
      "  warnings.warn('Using slow pure-python SequenceMatcher. Install python-Levenshtein to remove this warning')\n"
     ]
    }
   ],
   "source": [
    "import pandas as pd\n",
    "import numpy as np\n",
    "import matplotlib.pyplot as plt\n",
    "\n",
    "import nltk\n",
    "print(nltk.data.path)\n",
    "\n",
    "download_location = nltk.data.path[0]\n",
    "nltk.download('wordnet', download_dir=download_location)\n",
    "import wosis\n",
    "import metaknowledge as mk\n",
    "import networkx as nx"
   ]
  },
  {
   "cell_type": "code",
   "execution_count": 2,
   "id": "b11f74b7",
   "metadata": {},
   "outputs": [
    {
     "ename": "RCTypeError",
     "evalue": "'/home/vitor/Code/phd-review/data/review_wos.txt' is not a path to a directory or file. Strings cannot be used to initialize RecordCollections",
     "output_type": "error",
     "traceback": [
      "\u001b[0;31m---------------------------------------------------------------------------\u001b[0m",
      "\u001b[0;31mRCTypeError\u001b[0m                               Traceback (most recent call last)",
      "\u001b[0;32m<ipython-input-2-796151015b51>\u001b[0m in \u001b[0;36m<module>\u001b[0;34m\u001b[0m\n\u001b[0;32m----> 1\u001b[0;31m \u001b[0mRC\u001b[0m \u001b[0;34m=\u001b[0m \u001b[0mmk\u001b[0m\u001b[0;34m.\u001b[0m\u001b[0mRecordCollection\u001b[0m\u001b[0;34m(\u001b[0m\u001b[0;34m'data/review_wos.txt'\u001b[0m\u001b[0;34m)\u001b[0m\u001b[0;34m\u001b[0m\u001b[0;34m\u001b[0m\u001b[0m\n\u001b[0m",
      "\u001b[0;32m/usr/local/lib/python3.6/dist-packages/metaknowledge/recordCollection.py\u001b[0m in \u001b[0;36m__init__\u001b[0;34m(self, inCollection, name, extension, cached, quietStart)\u001b[0m\n\u001b[1;32m    149\u001b[0m                                 \u001b[0;32mpass\u001b[0m\u001b[0;34m\u001b[0m\u001b[0;34m\u001b[0m\u001b[0m\n\u001b[1;32m    150\u001b[0m                 \u001b[0;32melse\u001b[0m\u001b[0;34m:\u001b[0m\u001b[0;34m\u001b[0m\u001b[0;34m\u001b[0m\u001b[0m\n\u001b[0;32m--> 151\u001b[0;31m                     \u001b[0;32mraise\u001b[0m \u001b[0mRCTypeError\u001b[0m\u001b[0;34m(\u001b[0m\u001b[0;34m\"'{}' is not a path to a directory or file. Strings cannot be used to initialize RecordCollections\"\u001b[0m\u001b[0;34m.\u001b[0m\u001b[0mformat\u001b[0m\u001b[0;34m(\u001b[0m\u001b[0minCollection\u001b[0m\u001b[0;34m)\u001b[0m\u001b[0;34m)\u001b[0m\u001b[0;34m\u001b[0m\u001b[0;34m\u001b[0m\u001b[0m\n\u001b[0m\u001b[1;32m    152\u001b[0m             \u001b[0;32melif\u001b[0m \u001b[0misinstance\u001b[0m\u001b[0;34m(\u001b[0m\u001b[0minCollection\u001b[0m\u001b[0;34m,\u001b[0m \u001b[0mcollections\u001b[0m\u001b[0;34m.\u001b[0m\u001b[0mabc\u001b[0m\u001b[0;34m.\u001b[0m\u001b[0mIterable\u001b[0m\u001b[0;34m)\u001b[0m\u001b[0;34m:\u001b[0m\u001b[0;34m\u001b[0m\u001b[0;34m\u001b[0m\u001b[0m\n\u001b[1;32m    153\u001b[0m                 \u001b[0mPBar\u001b[0m\u001b[0;34m.\u001b[0m\u001b[0mupdateVal\u001b[0m\u001b[0;34m(\u001b[0m\u001b[0;36m.5\u001b[0m\u001b[0;34m,\u001b[0m \u001b[0;34m\"RecordCollection from an iterable started\"\u001b[0m\u001b[0;34m)\u001b[0m\u001b[0;34m\u001b[0m\u001b[0;34m\u001b[0m\u001b[0m\n",
      "\u001b[0;31mRCTypeError\u001b[0m: '/home/vitor/Code/phd-review/data/review_wos.txt' is not a path to a directory or file. Strings cannot be used to initialize RecordCollections"
     ]
    }
   ],
   "source": [
    "RC = mk.RecordCollection('data/review_wos.txt')"
   ]
  },
  {
   "cell_type": "code",
   "execution_count": null,
   "id": "477ce61f",
   "metadata": {},
   "outputs": [],
   "source": [
    "print(\"Corpora consists of\", len(RC), \"Publications\")\n",
    "print(RC)"
   ]
  },
  {
   "cell_type": "code",
   "execution_count": null,
   "id": "b7e26723",
   "metadata": {},
   "outputs": [],
   "source": [
    "G = RC.networkCoAuthor()\n",
    "print(len(G.nodes()))\n",
    "mk.writeGraph(G, \"networkCitation\")"
   ]
  },
  {
   "cell_type": "code",
   "execution_count": null,
   "id": "143f1d82",
   "metadata": {},
   "outputs": [],
   "source": [
    "nx.draw_spring(G)"
   ]
  }
 ],
 "metadata": {
  "kernelspec": {
   "display_name": "Python 3",
   "language": "python",
   "name": "python3"
  },
  "language_info": {
   "codemirror_mode": {
    "name": "ipython",
    "version": 3
   },
   "file_extension": ".py",
   "mimetype": "text/x-python",
   "name": "python",
   "nbconvert_exporter": "python",
   "pygments_lexer": "ipython3",
   "version": "3.6.9"
  }
 },
 "nbformat": 4,
 "nbformat_minor": 5
}
