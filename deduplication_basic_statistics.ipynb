{
 "cells": [
  {
   "cell_type": "markdown",
   "id": "3d1916cb",
   "metadata": {},
   "source": [
    "## Deduplication of results\n",
    "\n",
    "Naivy deduplication for now - just use DOI and title"
   ]
  },
  {
   "cell_type": "code",
   "execution_count": 294,
   "id": "3288a4f2",
   "metadata": {},
   "outputs": [],
   "source": [
    "import pandas as pd\n",
    "import numpy as np\n",
    "import matplotlib.pyplot as plt\n",
    "import seaborn as sns"
   ]
  },
  {
   "cell_type": "markdown",
   "id": "c9d59ef0",
   "metadata": {},
   "source": [
    "### Review"
   ]
  },
  {
   "cell_type": "markdown",
   "id": "d8537d89",
   "metadata": {},
   "source": [
    "Defining used columns and making directionary for merge WoS and Scopus"
   ]
  },
  {
   "cell_type": "code",
   "execution_count": 311,
   "id": "5ca493f2",
   "metadata": {},
   "outputs": [
    {
     "name": "stdout",
     "output_type": "stream",
     "text": [
      "Scopus len: 666 , removed 19 without DOI\n",
      "WoS len: 598 removed 9 without DOI\n"
     ]
    }
   ],
   "source": [
    "dfReviewScopus = pd.read_csv('bulk_data/review_scopus.csv')\n",
    "dfReviewWOS = pd.read_csv('data/review_wos.csv')\n",
    "\n",
    "## Fill additional data\n",
    "dfReviewScopus['Date of Export'] = '2023-01-24'\n",
    "dfReviewWOS['Source'] = 'Web of Science'\n",
    "dfReviewScopus['Link'] = 'https://dx.doi.org/' + dfReviewScopus['DOI']\n",
    "dfReviewWOS['Link'] = 'https://dx.doi.org/' + dfReviewWOS['DOI']\n",
    "dfReviewWOS['Publication Year'] = dfReviewWOS['Publication Year'].astype('Int64')\n",
    "\n",
    "## Remove rows without DOI\n",
    "dfReviewScopus = dfReviewScopus[dfReviewScopus['DOI'].notnull()]\n",
    "dfReviewWOS = dfReviewWOS[dfReviewWOS['DOI'].notnull()]\n",
    "\n",
    "print('Scopus len:', len(dfReviewScopus), ', removed', 685 - len(dfReviewScopus), 'without DOI')\n",
    "print('WoS len:', len(dfReviewWOS), 'removed', 607 - len(dfReviewWOS), 'without DOI')"
   ]
  },
  {
   "cell_type": "code",
   "execution_count": 312,
   "id": "9ca67c70",
   "metadata": {},
   "outputs": [
    {
     "name": "stdout",
     "output_type": "stream",
     "text": [
      "Scopus columns: ['Authors' 'Author(s) ID' 'Title' 'Year' 'Source title' 'Volume' 'Issue'\n",
      " 'Art. No.' 'Page start' 'Page end' 'Page count' 'Cited by' 'DOI' 'Link'\n",
      " 'Affiliations' 'Authors with affiliations' 'Abstract' 'Author Keywords'\n",
      " 'Index Keywords' 'References' 'Correspondence Address' 'Editors'\n",
      " 'Publisher' 'ISSN' 'ISBN' 'CODEN' 'PubMed ID'\n",
      " 'Language of Original Document' 'Abbreviated Source Title'\n",
      " 'Document Type' 'Publication Stage' 'Open Access' 'Source' 'EID'\n",
      " 'Date of Export']\n",
      "WoS columns: ['index' 'Publication Type' 'Authors' 'Author Full Names' 'Group Authors'\n",
      " 'Article Title' 'Source Title' 'Language' 'Document Type'\n",
      " 'Conference Title' 'Conference Date' 'Conference Location'\n",
      " 'Conference Sponsor' 'Conference Host' 'Author Keywords' 'Keywords Plus'\n",
      " 'Abstract' 'Addresses' 'Affiliations' 'Reprint Addresses'\n",
      " 'Email Addresses' 'Researcher Ids' 'ORCIDs' 'Funding Orgs'\n",
      " 'Funding Name Preferred' 'Funding Text' 'Cited References'\n",
      " 'Cited Reference Count' 'Times Cited, WoS Core'\n",
      " 'Times Cited, All Databases' '180 Day Usage Count'\n",
      " 'Since 2013 Usage Count' 'Publisher' 'Publisher City' 'Publisher Address'\n",
      " 'ISSN' 'eISSN' 'ISBN' 'Journal Abbreviation' 'Journal ISO Abbreviation'\n",
      " 'Publication Date' 'Publication Year' 'Volume' 'Issue' 'Part Number'\n",
      " 'Supplement' 'Special Issue' 'Meeting Abstract' 'Start Page' 'End Page'\n",
      " 'Article Number' 'DOI' 'Early Access Date' 'Number of Pages'\n",
      " 'WoS Categories' 'Web of Science Index' 'Research Areas' 'IDS Number'\n",
      " 'Pubmed Id' 'Highly Cited Status' 'Hot Paper Status' 'Date of Export'\n",
      " 'UT (Unique WOS ID)' 'Source' 'Link']\n"
     ]
    }
   ],
   "source": [
    "print('Scopus columns:', dfReviewScopus.columns.values)\n",
    "print('WoS columns:', dfReviewWOS.columns.values)"
   ]
  },
  {
   "cell_type": "code",
   "execution_count": 313,
   "id": "bfa6e89a",
   "metadata": {},
   "outputs": [],
   "source": [
    "columns_scopus = [\n",
    "    'Authors', 'Title', 'Year', 'Source title', 'DOI', 'Link', 'Author Keywords', \n",
    "    'Affiliations', 'Abstract', 'Cited by', 'References', 'Publisher', 'ISSN', \n",
    "    'Language of Original Document', 'Document Type', 'Source', 'Date of Export'\n",
    "]\n",
    "\n",
    "columns_wos = [\n",
    "    'Authors', 'Article Title', 'Publication Year', 'Source title', 'DOI', 'Link', 'Author Keywords', \n",
    "    'Affiliations', 'Abstract', 'Times Cited, All Databases', 'Cited References', 'Publisher', 'ISSN', \n",
    "    'Language', 'Document Type', 'Source', 'Date of Export'\n",
    "]\n",
    "\n",
    "final_columns = [\n",
    "    'Authors', 'Title', 'Year', 'Source title', 'DOI', 'Link', 'Author Keywords', \n",
    "    'Affiliations', 'Abstract', 'Number citation', 'References', 'Publisher', 'ISSN', \n",
    "    'Language', 'Document Type', 'Source', 'Date of Export'\n",
    "]"
   ]
  },
  {
   "cell_type": "code",
   "execution_count": 314,
   "id": "bb0c3fdb",
   "metadata": {},
   "outputs": [],
   "source": [
    "drop_columns = set(dfReviewScopus.columns.values) - set(columns_scopus)\n",
    "rename_columns = dict(zip(columns_scopus, final_columns))\n",
    "\n",
    "dfReviewScopus.drop(columns=drop_columns, inplace=True)\n",
    "dfReviewScopus.rename(columns=rename_columns, inplace=True)\n",
    "\n",
    "drop_columns = set(dfReviewWOS.columns.values) - set(columns_wos)\n",
    "rename_columns = dict(zip(columns_wos, final_columns))\n",
    "\n",
    "dfReviewWOS.drop(columns=drop_columns, inplace=True)\n",
    "dfReviewWOS.rename(columns=rename_columns, inplace=True)"
   ]
  },
  {
   "cell_type": "markdown",
   "id": "f1fbae77",
   "metadata": {},
   "source": [
    "Test to prepare merge"
   ]
  },
  {
   "cell_type": "code",
   "execution_count": 315,
   "id": "5259e3ea",
   "metadata": {},
   "outputs": [
    {
     "name": "stdout",
     "output_type": "stream",
     "text": [
      "Scopus len: 666\n",
      "WoS len: 598\n",
      "Merge len: 879 removed: 385\n"
     ]
    }
   ],
   "source": [
    "## Filtering by tittle\n",
    "\n",
    "print('Scopus len:', len(dfReviewScopus))\n",
    "print('WoS len:', len(dfReviewWOS))\n",
    "\n",
    "titleScopus = dfReviewScopus['Title'].str.strip(' .').str.lower().tolist()\n",
    "titleWoS = dfReviewWOS['Title'].str.strip(' .').str.lower().tolist()\n",
    "\n",
    "titleMerge = list(set(titleScopus + titleWoS))\n",
    "\n",
    "print('Merge len:', len(titleMerge), 'removed:', len(dfReviewScopus) + len(dfReviewWOS) - len(titleMerge))"
   ]
  },
  {
   "cell_type": "code",
   "execution_count": 316,
   "id": "d11d8bb9",
   "metadata": {},
   "outputs": [
    {
     "name": "stdout",
     "output_type": "stream",
     "text": [
      "Scopus len: 666\n",
      "WoS len: 598\n",
      "Merge len: 849 removed: 415\n"
     ]
    }
   ],
   "source": [
    "## Filtering by DOI - used option\n",
    "\n",
    "print('Scopus len:', len(dfReviewScopus))\n",
    "print('WoS len:', len(dfReviewWOS))\n",
    "\n",
    "doiScopus = dfReviewScopus['DOI'].tolist()\n",
    "doiWoS = dfReviewWOS['DOI'].tolist()\n",
    "\n",
    "doiMerge = list(set(doiScopus + doiWoS))\n",
    "\n",
    "print('Merge len:', len(doiMerge), 'removed:', len(dfReviewScopus) + len(dfReviewWOS) - len(doiMerge))"
   ]
  },
  {
   "cell_type": "code",
   "execution_count": 317,
   "id": "b87ab49d",
   "metadata": {},
   "outputs": [
    {
     "name": "stdout",
     "output_type": "stream",
     "text": [
      "Estimated number of valid abstract results for review: 323\n"
     ]
    }
   ],
   "source": [
    "print('Estimated number of valid abstract results for review:', round((19/50)*849))"
   ]
  },
  {
   "cell_type": "markdown",
   "id": "373775a7",
   "metadata": {},
   "source": [
    "Merge dataframes, removing duplicates by DOI"
   ]
  },
  {
   "cell_type": "code",
   "execution_count": 318,
   "id": "48a2d0a0",
   "metadata": {},
   "outputs": [],
   "source": [
    "for idx, row in dfReviewScopus.iterrows():\n",
    "    if row.DOI in dfReviewWOS.DOI.values:\n",
    "        dfReviewScopus.loc[idx, 'Source'] = 'Scopus;Web of Science'\n",
    "        \n",
    "dfReview = pd.concat([dfReviewScopus, dfReviewWOS], ignore_index=True)[final_columns]\n",
    "dfReview.drop_duplicates(subset=['DOI'], keep='first', inplace=True)"
   ]
  },
  {
   "cell_type": "code",
   "execution_count": 319,
   "id": "49227294",
   "metadata": {},
   "outputs": [
    {
     "name": "stdout",
     "output_type": "stream",
     "text": [
      "Final length: 849\n"
     ]
    },
    {
     "data": {
      "text/html": [
       "<div>\n",
       "<style scoped>\n",
       "    .dataframe tbody tr th:only-of-type {\n",
       "        vertical-align: middle;\n",
       "    }\n",
       "\n",
       "    .dataframe tbody tr th {\n",
       "        vertical-align: top;\n",
       "    }\n",
       "\n",
       "    .dataframe thead th {\n",
       "        text-align: right;\n",
       "    }\n",
       "</style>\n",
       "<table border=\"1\" class=\"dataframe\">\n",
       "  <thead>\n",
       "    <tr style=\"text-align: right;\">\n",
       "      <th></th>\n",
       "      <th>Authors</th>\n",
       "      <th>Title</th>\n",
       "      <th>Year</th>\n",
       "      <th>Source title</th>\n",
       "      <th>DOI</th>\n",
       "      <th>Link</th>\n",
       "      <th>Author Keywords</th>\n",
       "      <th>Affiliations</th>\n",
       "      <th>Abstract</th>\n",
       "      <th>Number citation</th>\n",
       "      <th>References</th>\n",
       "      <th>Publisher</th>\n",
       "      <th>ISSN</th>\n",
       "      <th>Language</th>\n",
       "      <th>Document Type</th>\n",
       "      <th>Source</th>\n",
       "      <th>Date of Export</th>\n",
       "    </tr>\n",
       "  </thead>\n",
       "  <tbody>\n",
       "    <tr>\n",
       "      <th>0</th>\n",
       "      <td>Nipa T.J., Kermanshachi S., Pamidimukkala A.</td>\n",
       "      <td>Identification of Resilience Dimensions in Cri...</td>\n",
       "      <td>2023</td>\n",
       "      <td>Journal of Legal Affairs and Dispute Resolutio...</td>\n",
       "      <td>10.1061/JLADAH.LADR-870</td>\n",
       "      <td>https://dx.doi.org/10.1061/JLADAH.LADR-870</td>\n",
       "      <td>Critical transportation infrastructure; Natura...</td>\n",
       "      <td>Dept. of Civil Engineering, Univ. of Texas at ...</td>\n",
       "      <td>Incorporating resilience into transportation i...</td>\n",
       "      <td>NaN</td>\n",
       "      <td>Adger, W.N., Social and ecological resilience:...</td>\n",
       "      <td>American Society of Civil Engineers (ASCE)</td>\n",
       "      <td>19434162</td>\n",
       "      <td>English</td>\n",
       "      <td>Review</td>\n",
       "      <td>Scopus</td>\n",
       "      <td>2023-01-24</td>\n",
       "    </tr>\n",
       "    <tr>\n",
       "      <th>1</th>\n",
       "      <td>Ong A.D., Liu Z., Cintron D.W.</td>\n",
       "      <td>Five challenges for hope and resilience research</td>\n",
       "      <td>2023</td>\n",
       "      <td>Current Opinion in Psychology</td>\n",
       "      <td>10.1016/j.copsyc.2022.101538</td>\n",
       "      <td>https://dx.doi.org/10.1016/j.copsyc.2022.101538</td>\n",
       "      <td>Hope; Measurement; Mental health; Resilience; ...</td>\n",
       "      <td>Department of Psychology, Cornell University, ...</td>\n",
       "      <td>Twenty years after Snyder's seminar article on...</td>\n",
       "      <td>NaN</td>\n",
       "      <td>Snyder, C.R., Hope theory: rainbows in the min...</td>\n",
       "      <td>Elsevier B.V.</td>\n",
       "      <td>2352250X</td>\n",
       "      <td>English</td>\n",
       "      <td>Review</td>\n",
       "      <td>Scopus</td>\n",
       "      <td>2023-01-24</td>\n",
       "    </tr>\n",
       "    <tr>\n",
       "      <th>2</th>\n",
       "      <td>Rai P.K., Sonne C., Song H., Kim K.-H.</td>\n",
       "      <td>Plastic wastes in the time of COVID-19: Their ...</td>\n",
       "      <td>2023</td>\n",
       "      <td>Science of the Total Environment</td>\n",
       "      <td>10.1016/j.scitotenv.2022.159880</td>\n",
       "      <td>https://dx.doi.org/10.1016/j.scitotenv.2022.15...</td>\n",
       "      <td>Biorefinery; Circular economy; Climate-smart h...</td>\n",
       "      <td>Phyto-Technologies and Plant Invasion Lab, Dep...</td>\n",
       "      <td>The global scope of pollution from plastic was...</td>\n",
       "      <td>NaN</td>\n",
       "      <td>Abokalawa, F., The effects of coronavirus dise...</td>\n",
       "      <td>Elsevier B.V.</td>\n",
       "      <td>00489697</td>\n",
       "      <td>English</td>\n",
       "      <td>Review</td>\n",
       "      <td>Scopus</td>\n",
       "      <td>2023-01-24</td>\n",
       "    </tr>\n",
       "    <tr>\n",
       "      <th>3</th>\n",
       "      <td>SmithBattle L., Phengnum W.</td>\n",
       "      <td>An Integrative Review of the Research on Teen ...</td>\n",
       "      <td>2023</td>\n",
       "      <td>Western Journal of Nursing Research</td>\n",
       "      <td>10.1177/01939459221106989</td>\n",
       "      <td>https://dx.doi.org/10.1177/01939459221106989</td>\n",
       "      <td>adolescent mothers; adverse childhood experien...</td>\n",
       "      <td>Trudy Busch Valentine School of Nursing, Saint...</td>\n",
       "      <td>Greater attention to teen mothers’ strengths a...</td>\n",
       "      <td>NaN</td>\n",
       "      <td>Acabchuk, R.L., Kamath, J., Salamone, J.D., Jo...</td>\n",
       "      <td>SAGE Publications Inc.</td>\n",
       "      <td>01939459</td>\n",
       "      <td>English</td>\n",
       "      <td>Review</td>\n",
       "      <td>Scopus;Web of Science</td>\n",
       "      <td>2023-01-24</td>\n",
       "    </tr>\n",
       "    <tr>\n",
       "      <th>4</th>\n",
       "      <td>Zhou Y.</td>\n",
       "      <td>Climate change adaptation with energy resilien...</td>\n",
       "      <td>2023</td>\n",
       "      <td>Energy and Buildings</td>\n",
       "      <td>10.1016/j.enbuild.2022.112649</td>\n",
       "      <td>https://dx.doi.org/10.1016/j.enbuild.2022.112649</td>\n",
       "      <td>Climate adaptation; Decarbonisation; District ...</td>\n",
       "      <td>Sustainable Energy and Environment Thrust, Fun...</td>\n",
       "      <td>Energy efficiency, flexibility, and robustness...</td>\n",
       "      <td>2.0</td>\n",
       "      <td>Davis, S.J., Lewis, N.S., Shaner, M., Aggarwal...</td>\n",
       "      <td>Elsevier Ltd</td>\n",
       "      <td>03787788</td>\n",
       "      <td>English</td>\n",
       "      <td>Review</td>\n",
       "      <td>Scopus;Web of Science</td>\n",
       "      <td>2023-01-24</td>\n",
       "    </tr>\n",
       "  </tbody>\n",
       "</table>\n",
       "</div>"
      ],
      "text/plain": [
       "                                        Authors  \\\n",
       "0  Nipa T.J., Kermanshachi S., Pamidimukkala A.   \n",
       "1                Ong A.D., Liu Z., Cintron D.W.   \n",
       "2        Rai P.K., Sonne C., Song H., Kim K.-H.   \n",
       "3                   SmithBattle L., Phengnum W.   \n",
       "4                                       Zhou Y.   \n",
       "\n",
       "                                               Title  Year  \\\n",
       "0  Identification of Resilience Dimensions in Cri...  2023   \n",
       "1   Five challenges for hope and resilience research  2023   \n",
       "2  Plastic wastes in the time of COVID-19: Their ...  2023   \n",
       "3  An Integrative Review of the Research on Teen ...  2023   \n",
       "4  Climate change adaptation with energy resilien...  2023   \n",
       "\n",
       "                                        Source title  \\\n",
       "0  Journal of Legal Affairs and Dispute Resolutio...   \n",
       "1                      Current Opinion in Psychology   \n",
       "2                   Science of the Total Environment   \n",
       "3                Western Journal of Nursing Research   \n",
       "4                               Energy and Buildings   \n",
       "\n",
       "                               DOI  \\\n",
       "0          10.1061/JLADAH.LADR-870   \n",
       "1     10.1016/j.copsyc.2022.101538   \n",
       "2  10.1016/j.scitotenv.2022.159880   \n",
       "3        10.1177/01939459221106989   \n",
       "4    10.1016/j.enbuild.2022.112649   \n",
       "\n",
       "                                                Link  \\\n",
       "0         https://dx.doi.org/10.1061/JLADAH.LADR-870   \n",
       "1    https://dx.doi.org/10.1016/j.copsyc.2022.101538   \n",
       "2  https://dx.doi.org/10.1016/j.scitotenv.2022.15...   \n",
       "3       https://dx.doi.org/10.1177/01939459221106989   \n",
       "4   https://dx.doi.org/10.1016/j.enbuild.2022.112649   \n",
       "\n",
       "                                     Author Keywords  \\\n",
       "0  Critical transportation infrastructure; Natura...   \n",
       "1  Hope; Measurement; Mental health; Resilience; ...   \n",
       "2  Biorefinery; Circular economy; Climate-smart h...   \n",
       "3  adolescent mothers; adverse childhood experien...   \n",
       "4  Climate adaptation; Decarbonisation; District ...   \n",
       "\n",
       "                                        Affiliations  \\\n",
       "0  Dept. of Civil Engineering, Univ. of Texas at ...   \n",
       "1  Department of Psychology, Cornell University, ...   \n",
       "2  Phyto-Technologies and Plant Invasion Lab, Dep...   \n",
       "3  Trudy Busch Valentine School of Nursing, Saint...   \n",
       "4  Sustainable Energy and Environment Thrust, Fun...   \n",
       "\n",
       "                                            Abstract  Number citation  \\\n",
       "0  Incorporating resilience into transportation i...              NaN   \n",
       "1  Twenty years after Snyder's seminar article on...              NaN   \n",
       "2  The global scope of pollution from plastic was...              NaN   \n",
       "3  Greater attention to teen mothers’ strengths a...              NaN   \n",
       "4  Energy efficiency, flexibility, and robustness...              2.0   \n",
       "\n",
       "                                          References  \\\n",
       "0  Adger, W.N., Social and ecological resilience:...   \n",
       "1  Snyder, C.R., Hope theory: rainbows in the min...   \n",
       "2  Abokalawa, F., The effects of coronavirus dise...   \n",
       "3  Acabchuk, R.L., Kamath, J., Salamone, J.D., Jo...   \n",
       "4  Davis, S.J., Lewis, N.S., Shaner, M., Aggarwal...   \n",
       "\n",
       "                                    Publisher      ISSN Language  \\\n",
       "0  American Society of Civil Engineers (ASCE)  19434162  English   \n",
       "1                               Elsevier B.V.  2352250X  English   \n",
       "2                               Elsevier B.V.  00489697  English   \n",
       "3                      SAGE Publications Inc.  01939459  English   \n",
       "4                                Elsevier Ltd  03787788  English   \n",
       "\n",
       "  Document Type                 Source Date of Export  \n",
       "0        Review                 Scopus     2023-01-24  \n",
       "1        Review                 Scopus     2023-01-24  \n",
       "2        Review                 Scopus     2023-01-24  \n",
       "3        Review  Scopus;Web of Science     2023-01-24  \n",
       "4        Review  Scopus;Web of Science     2023-01-24  "
      ]
     },
     "execution_count": 319,
     "metadata": {},
     "output_type": "execute_result"
    }
   ],
   "source": [
    "print('Final length:', len(dfReview))\n",
    "dfReview.head()"
   ]
  },
  {
   "cell_type": "code",
   "execution_count": 320,
   "id": "c5bd5fe8",
   "metadata": {},
   "outputs": [],
   "source": [
    "dfReview.drop(columns=['Abstract', 'References']).to_csv('data/meta_review.csv', index_label='index')"
   ]
  },
  {
   "cell_type": "markdown",
   "id": "71961e8a",
   "metadata": {},
   "source": [
    "### Modeling"
   ]
  },
  {
   "cell_type": "code",
   "execution_count": 321,
   "id": "bb0ffaf8",
   "metadata": {},
   "outputs": [
    {
     "name": "stdout",
     "output_type": "stream",
     "text": [
      "Scopus len: 3483 , removed 206 without DOI\n",
      "WoS len: 4309 , removed 321 without DOI\n"
     ]
    }
   ],
   "source": [
    "dfModelScopus1 = pd.read_csv('bulk_data/model_scopus_1.csv')\n",
    "dfModelScopus2 = pd.read_csv('bulk_data/model_scopus_2.csv')\n",
    "dfModelScopus = pd.concat([dfModelScopus1, dfModelScopus2])\n",
    "\n",
    "dfModelWOS = pd.read_csv('data/model_wos.csv', index_col=0)\n",
    "\n",
    "## Fill additional data\n",
    "dfModelScopus['Date of Export'] = '2023-01-24'\n",
    "dfModelWOS['Source'] = 'Web of Science'\n",
    "dfModelScopus['Link'] = 'https://dx.doi.org/' + dfModelScopus['DOI']\n",
    "dfModelWOS['Link'] = 'https://dx.doi.org/' + dfModelWOS['DOI']\n",
    "dfModelWOS['Publication Year'] = dfModelWOS['Publication Year'].astype('Int64')\n",
    "\n",
    "## Remove rows without DOI\n",
    "dfModelScopus = dfModelScopus[dfModelScopus['DOI'].notnull()]\n",
    "dfModelWOS = dfModelWOS[dfModelWOS['DOI'].notnull()]\n",
    "\n",
    "print('Scopus len:', len(dfModelScopus), ', removed', 3689 - len(dfModelScopus), 'without DOI')\n",
    "print('WoS len:', len(dfModelWOS), ', removed', 4630 - len(dfModelWOS), 'without DOI')"
   ]
  },
  {
   "cell_type": "code",
   "execution_count": 322,
   "id": "d7227052",
   "metadata": {},
   "outputs": [],
   "source": [
    "columns_scopus = [\n",
    "    'Authors', 'Title', 'Year', 'Source title', 'DOI', 'Link', 'Author Keywords', \n",
    "    'Affiliations', 'Abstract', 'Cited by', 'References', 'Publisher', 'ISSN', \n",
    "    'Language of Original Document', 'Document Type', 'Source', 'Date of Export'\n",
    "]\n",
    "\n",
    "columns_wos = [\n",
    "    'Authors', 'Article Title', 'Publication Year', 'Source title', 'DOI', 'Link', 'Author Keywords', \n",
    "    'Affiliations', 'Abstract', 'Times Cited, All Databases', 'Cited References', 'Publisher', 'ISSN', \n",
    "    'Language', 'Document Type', 'Source', 'Date of Export'\n",
    "]\n",
    "\n",
    "final_columns = [\n",
    "    'Authors', 'Title', 'Year', 'Source title', 'DOI', 'Link', 'Author Keywords', \n",
    "    'Affiliations', 'Abstract', 'Number citation', 'References', 'Publisher', 'ISSN', \n",
    "    'Language', 'Document Type', 'Source', 'Date of Export'\n",
    "]"
   ]
  },
  {
   "cell_type": "code",
   "execution_count": 323,
   "id": "00f92d28",
   "metadata": {},
   "outputs": [],
   "source": [
    "drop_columns = set(dfModelScopus.columns.values) - set(columns_scopus)\n",
    "rename_columns = dict(zip(columns_scopus, final_columns))\n",
    "\n",
    "dfModelScopus.drop(columns=drop_columns, inplace=True)\n",
    "dfModelScopus.rename(columns=rename_columns, inplace=True)\n",
    "\n",
    "drop_columns = set(dfModelWOS.columns.values) - set(columns_wos)\n",
    "rename_columns = dict(zip(columns_wos, final_columns))\n",
    "\n",
    "dfModelWOS.drop(columns=drop_columns, inplace=True)\n",
    "dfModelWOS.rename(columns=rename_columns, inplace=True)"
   ]
  },
  {
   "cell_type": "markdown",
   "id": "8615cbc6",
   "metadata": {},
   "source": [
    "Test to prepare to merge"
   ]
  },
  {
   "cell_type": "code",
   "execution_count": 324,
   "id": "dc187aa8",
   "metadata": {},
   "outputs": [
    {
     "name": "stdout",
     "output_type": "stream",
     "text": [
      "Scopus len: 3483\n",
      "WoS len: 4309\n",
      "Merge len: 5821 removed: 1971\n"
     ]
    }
   ],
   "source": [
    "## Filtering by title \n",
    "\n",
    "print('Scopus len:', len(dfModelScopus))\n",
    "print('WoS len:', len(dfModelWOS))\n",
    "\n",
    "titleScopus = dfModelScopus['Title'].str.strip(' .').str.lower().tolist()\n",
    "titleWoS = dfModelWOS['Title'].str.strip(' .').str.lower().tolist()\n",
    "\n",
    "titleMerge = list(set(titleScopus + titleWoS))\n",
    "\n",
    "print('Merge len:', len(titleMerge), 'removed:', len(dfModelScopus) + len(dfModelWOS) - len(titleMerge))"
   ]
  },
  {
   "cell_type": "code",
   "execution_count": 325,
   "id": "d86f34df",
   "metadata": {},
   "outputs": [
    {
     "name": "stdout",
     "output_type": "stream",
     "text": [
      "Scopus len: 3483\n",
      "WoS len: 4309\n",
      "Merge len: 5712 removed: 2080\n"
     ]
    }
   ],
   "source": [
    "## Filtering by DOI - used option\n",
    "\n",
    "print('Scopus len:', len(dfModelScopus))\n",
    "print('WoS len:', len(dfModelWOS))\n",
    "\n",
    "doiScopus = dfModelScopus['DOI'].tolist()\n",
    "doiWoS = dfModelWOS['DOI'].tolist()\n",
    "\n",
    "doiMerge = list(set(doiScopus + doiWoS))\n",
    "\n",
    "print('Merge len:', len(doiMerge), 'removed:', len(dfModelScopus) + len(dfModelWOS) - len(doiMerge))"
   ]
  },
  {
   "cell_type": "code",
   "execution_count": 326,
   "id": "5ec07786",
   "metadata": {},
   "outputs": [
    {
     "name": "stdout",
     "output_type": "stream",
     "text": [
      "Estimated number of valid abstract results for model (20 de 50): 2285\n",
      "Estimated number of valid abstract results for model (10 de 50): 1142\n",
      "\n",
      "Considering 1 minute per abstract and 6h per day.\n",
      "Estimated time to scan abstract of modeling results 60.0% sample (3427 papers): 57 hours or 10 days \n",
      "The absolute minimun, considering I would scan only valid (1142 papers), is: 19 hours, or 3 days\n",
      "\n",
      "For 500 articles: 8 hours and 1.4 days \n",
      "For 1000 articles: 17 hours and 2.8 days \n",
      "For 1500 articles: 25 hours and 4.2 days \n",
      "For 2000 articles: 33 hours and 5.6 days \n",
      "For 2500 articles: 42 hours and 6.9 days \n",
      "For 3000 articles: 50 hours and 8.3 days \n",
      "For 3500 articles: 58 hours and 9.7 days \n"
     ]
    }
   ],
   "source": [
    "valid_model = round((20/50)*5712)\n",
    "print('Estimated number of valid abstract results for model (20 de 50):', valid_model)\n",
    "\n",
    "valid_model = round((10/50)*5712)\n",
    "print('Estimated number of valid abstract results for model (10 de 50):', valid_model)\n",
    "\n",
    "sample_ratio = 0.6\n",
    "print('\\nConsidering 1 minute per abstract and 6h per day.')\n",
    "\n",
    "print('Estimated time to scan abstract of modeling results', end =' ')\n",
    "print(f'{sample_ratio*100}% sample ({round(len(doiMerge) * sample_ratio)} papers):', end =' ')\n",
    "print(f'{round(len(doiMerge) * sample_ratio / 60)}', end =' ')\n",
    "print('hours or', round(len(doiMerge)*sample_ratio / (60*6)), 'days ')\n",
    "print(f'The absolute minimun, considering I would scan only valid ({valid_model} papers), is: ', end =\"\")\n",
    "print(round(valid_model / 60), 'hours, or', round(valid_model / (60*6)), 'days\\n')\n",
    "\n",
    "\n",
    "for i in np.arange(500, 4000, 500):\n",
    "    print(f'For {i} articles: {round(i / 60)} hours and {round(i/(60*6), 1)} days ')"
   ]
  },
  {
   "cell_type": "markdown",
   "id": "65fb17d2",
   "metadata": {},
   "source": [
    "Merge dataframes, removing duplicates by DOI"
   ]
  },
  {
   "cell_type": "code",
   "execution_count": 327,
   "id": "132e1301",
   "metadata": {},
   "outputs": [],
   "source": [
    "for idx, row in dfModelScopus.iterrows():\n",
    "    if row.DOI in dfModelWOS.DOI.values:\n",
    "        dfModelScopus.loc[idx, 'Source'] = 'Scopus;Web of Science'\n",
    "        \n",
    "dfModel = pd.concat([dfModelScopus, dfModelWOS], ignore_index=True)[final_columns]\n",
    "dfModel.drop_duplicates(subset=['DOI'], keep='first', inplace=True)"
   ]
  },
  {
   "cell_type": "code",
   "execution_count": 328,
   "id": "2d1c490b",
   "metadata": {},
   "outputs": [
    {
     "name": "stdout",
     "output_type": "stream",
     "text": [
      "Final length: 5712\n"
     ]
    },
    {
     "data": {
      "text/html": [
       "<div>\n",
       "<style scoped>\n",
       "    .dataframe tbody tr th:only-of-type {\n",
       "        vertical-align: middle;\n",
       "    }\n",
       "\n",
       "    .dataframe tbody tr th {\n",
       "        vertical-align: top;\n",
       "    }\n",
       "\n",
       "    .dataframe thead th {\n",
       "        text-align: right;\n",
       "    }\n",
       "</style>\n",
       "<table border=\"1\" class=\"dataframe\">\n",
       "  <thead>\n",
       "    <tr style=\"text-align: right;\">\n",
       "      <th></th>\n",
       "      <th>Authors</th>\n",
       "      <th>Title</th>\n",
       "      <th>Year</th>\n",
       "      <th>Source title</th>\n",
       "      <th>DOI</th>\n",
       "      <th>Link</th>\n",
       "      <th>Author Keywords</th>\n",
       "      <th>Affiliations</th>\n",
       "      <th>Abstract</th>\n",
       "      <th>Number citation</th>\n",
       "      <th>References</th>\n",
       "      <th>Publisher</th>\n",
       "      <th>ISSN</th>\n",
       "      <th>Language</th>\n",
       "      <th>Document Type</th>\n",
       "      <th>Source</th>\n",
       "      <th>Date of Export</th>\n",
       "    </tr>\n",
       "  </thead>\n",
       "  <tbody>\n",
       "    <tr>\n",
       "      <th>0</th>\n",
       "      <td>Dzhambov A.M., Tilov B.G., Makakova D.R., Dimi...</td>\n",
       "      <td>Psychometric Properties and Contribution to Me...</td>\n",
       "      <td>2019</td>\n",
       "      <td>Folia medica</td>\n",
       "      <td>10.3897/folmed.61.e47726</td>\n",
       "      <td>https://dx.doi.org/10.3897/folmed.61.e47726</td>\n",
       "      <td>anxiety; brooding; depression; repetitive thou...</td>\n",
       "      <td>Medical University of PlovdivPlovdiv, Bulgaria</td>\n",
       "      <td>BACKGROUND: The Ruminative Thought Style Quest...</td>\n",
       "      <td>5.0</td>\n",
       "      <td>NaN</td>\n",
       "      <td>NLM (Medline)</td>\n",
       "      <td>13142143</td>\n",
       "      <td>English</td>\n",
       "      <td>Article</td>\n",
       "      <td>Scopus</td>\n",
       "      <td>2023-01-24</td>\n",
       "    </tr>\n",
       "    <tr>\n",
       "      <th>1</th>\n",
       "      <td>Liu D., Feng J., Li H., Fu Q., Li M., Faiz M.A...</td>\n",
       "      <td>Spatiotemporal variation analysis of regional ...</td>\n",
       "      <td>2019</td>\n",
       "      <td>Journal of Cleaner Production</td>\n",
       "      <td>10.1016/j.jclepro.2019.118406</td>\n",
       "      <td>https://dx.doi.org/10.1016/j.jclepro.2019.118406</td>\n",
       "      <td>Flood disaster resilience evaluation; Hongxing...</td>\n",
       "      <td>School of Water Conservancy &amp; Civil Engineerin...</td>\n",
       "      <td>Due to the weak methods available for evaluati...</td>\n",
       "      <td>22.0</td>\n",
       "      <td>Bayraktar, Z., Komurcu, M., Adaptive wind driv...</td>\n",
       "      <td>Elsevier Ltd</td>\n",
       "      <td>09596526</td>\n",
       "      <td>English</td>\n",
       "      <td>Article</td>\n",
       "      <td>Scopus;Web of Science</td>\n",
       "      <td>2023-01-24</td>\n",
       "    </tr>\n",
       "    <tr>\n",
       "      <th>2</th>\n",
       "      <td>Istas M., Groth C., Waintal X.</td>\n",
       "      <td>Pushing the limit of quantum transport simulat...</td>\n",
       "      <td>2019</td>\n",
       "      <td>Physical Review Research</td>\n",
       "      <td>10.1103/PhysRevResearch.1.033188</td>\n",
       "      <td>https://dx.doi.org/10.1103/PhysRevResearch.1.0...</td>\n",
       "      <td>NaN</td>\n",
       "      <td>PHELIQS, IRIG, CEA, Université Grenoble Alpes,...</td>\n",
       "      <td>Simulations of quantum transport in coherent c...</td>\n",
       "      <td>8.0</td>\n",
       "      <td>Lee, P. A., Fisher, D. S., Anderson Localizati...</td>\n",
       "      <td>American Physical Society</td>\n",
       "      <td>26431564</td>\n",
       "      <td>English</td>\n",
       "      <td>Article</td>\n",
       "      <td>Scopus;Web of Science</td>\n",
       "      <td>2023-01-24</td>\n",
       "    </tr>\n",
       "    <tr>\n",
       "      <th>3</th>\n",
       "      <td>Chekole E.G., Huaqun G.</td>\n",
       "      <td>ICS-SEA: Formally modeling the conflicting des...</td>\n",
       "      <td>2019</td>\n",
       "      <td>ACM International Conference Proceeding Series</td>\n",
       "      <td>10.1145/3372318.3372325</td>\n",
       "      <td>https://dx.doi.org/10.1145/3372318.3372325</td>\n",
       "      <td>NaN</td>\n",
       "      <td>Institute for Infocomm Research, A*STAR, Singa...</td>\n",
       "      <td>Industrial control systems (ICS) have been wid...</td>\n",
       "      <td>4.0</td>\n",
       "      <td>Armando, A., Carbone, R., Chekole, E.G., Petra...</td>\n",
       "      <td>Association for Computing Machinery</td>\n",
       "      <td>NaN</td>\n",
       "      <td>English</td>\n",
       "      <td>Conference Paper</td>\n",
       "      <td>Scopus;Web of Science</td>\n",
       "      <td>2023-01-24</td>\n",
       "    </tr>\n",
       "    <tr>\n",
       "      <th>4</th>\n",
       "      <td>Cushman S.A., McGarigal K.</td>\n",
       "      <td>Metrics and Models for Quantifying Ecological ...</td>\n",
       "      <td>2019</td>\n",
       "      <td>Frontiers in Ecology and Evolution</td>\n",
       "      <td>10.3389/fevo.2019.00440</td>\n",
       "      <td>https://dx.doi.org/10.3389/fevo.2019.00440</td>\n",
       "      <td>FRAGSTATS; landscape dynamics; landscape patte...</td>\n",
       "      <td>US Forest Service, Center for Landscape Scienc...</td>\n",
       "      <td>An explicit link between the abiotic environme...</td>\n",
       "      <td>20.0</td>\n",
       "      <td>Allen, C.R., Angeler, D.G., Cumming, G.S., Fol...</td>\n",
       "      <td>Frontiers Media S.A.</td>\n",
       "      <td>2296701X</td>\n",
       "      <td>English</td>\n",
       "      <td>Article</td>\n",
       "      <td>Scopus</td>\n",
       "      <td>2023-01-24</td>\n",
       "    </tr>\n",
       "  </tbody>\n",
       "</table>\n",
       "</div>"
      ],
      "text/plain": [
       "                                             Authors  \\\n",
       "0  Dzhambov A.M., Tilov B.G., Makakova D.R., Dimi...   \n",
       "1  Liu D., Feng J., Li H., Fu Q., Li M., Faiz M.A...   \n",
       "2                     Istas M., Groth C., Waintal X.   \n",
       "3                            Chekole E.G., Huaqun G.   \n",
       "4                         Cushman S.A., McGarigal K.   \n",
       "\n",
       "                                               Title  Year  \\\n",
       "0  Psychometric Properties and Contribution to Me...  2019   \n",
       "1  Spatiotemporal variation analysis of regional ...  2019   \n",
       "2  Pushing the limit of quantum transport simulat...  2019   \n",
       "3  ICS-SEA: Formally modeling the conflicting des...  2019   \n",
       "4  Metrics and Models for Quantifying Ecological ...  2019   \n",
       "\n",
       "                                     Source title  \\\n",
       "0                                    Folia medica   \n",
       "1                   Journal of Cleaner Production   \n",
       "2                        Physical Review Research   \n",
       "3  ACM International Conference Proceeding Series   \n",
       "4              Frontiers in Ecology and Evolution   \n",
       "\n",
       "                                DOI  \\\n",
       "0          10.3897/folmed.61.e47726   \n",
       "1     10.1016/j.jclepro.2019.118406   \n",
       "2  10.1103/PhysRevResearch.1.033188   \n",
       "3           10.1145/3372318.3372325   \n",
       "4           10.3389/fevo.2019.00440   \n",
       "\n",
       "                                                Link  \\\n",
       "0        https://dx.doi.org/10.3897/folmed.61.e47726   \n",
       "1   https://dx.doi.org/10.1016/j.jclepro.2019.118406   \n",
       "2  https://dx.doi.org/10.1103/PhysRevResearch.1.0...   \n",
       "3         https://dx.doi.org/10.1145/3372318.3372325   \n",
       "4         https://dx.doi.org/10.3389/fevo.2019.00440   \n",
       "\n",
       "                                     Author Keywords  \\\n",
       "0  anxiety; brooding; depression; repetitive thou...   \n",
       "1  Flood disaster resilience evaluation; Hongxing...   \n",
       "2                                                NaN   \n",
       "3                                                NaN   \n",
       "4  FRAGSTATS; landscape dynamics; landscape patte...   \n",
       "\n",
       "                                        Affiliations  \\\n",
       "0     Medical University of PlovdivPlovdiv, Bulgaria   \n",
       "1  School of Water Conservancy & Civil Engineerin...   \n",
       "2  PHELIQS, IRIG, CEA, Université Grenoble Alpes,...   \n",
       "3  Institute for Infocomm Research, A*STAR, Singa...   \n",
       "4  US Forest Service, Center for Landscape Scienc...   \n",
       "\n",
       "                                            Abstract  Number citation  \\\n",
       "0  BACKGROUND: The Ruminative Thought Style Quest...              5.0   \n",
       "1  Due to the weak methods available for evaluati...             22.0   \n",
       "2  Simulations of quantum transport in coherent c...              8.0   \n",
       "3  Industrial control systems (ICS) have been wid...              4.0   \n",
       "4  An explicit link between the abiotic environme...             20.0   \n",
       "\n",
       "                                          References  \\\n",
       "0                                                NaN   \n",
       "1  Bayraktar, Z., Komurcu, M., Adaptive wind driv...   \n",
       "2  Lee, P. A., Fisher, D. S., Anderson Localizati...   \n",
       "3  Armando, A., Carbone, R., Chekole, E.G., Petra...   \n",
       "4  Allen, C.R., Angeler, D.G., Cumming, G.S., Fol...   \n",
       "\n",
       "                             Publisher      ISSN Language     Document Type  \\\n",
       "0                        NLM (Medline)  13142143  English           Article   \n",
       "1                         Elsevier Ltd  09596526  English           Article   \n",
       "2            American Physical Society  26431564  English           Article   \n",
       "3  Association for Computing Machinery       NaN  English  Conference Paper   \n",
       "4                 Frontiers Media S.A.  2296701X  English           Article   \n",
       "\n",
       "                  Source Date of Export  \n",
       "0                 Scopus     2023-01-24  \n",
       "1  Scopus;Web of Science     2023-01-24  \n",
       "2  Scopus;Web of Science     2023-01-24  \n",
       "3  Scopus;Web of Science     2023-01-24  \n",
       "4                 Scopus     2023-01-24  "
      ]
     },
     "execution_count": 328,
     "metadata": {},
     "output_type": "execute_result"
    }
   ],
   "source": [
    "print('Final length:', len(dfModel))\n",
    "dfModel.head()"
   ]
  },
  {
   "cell_type": "code",
   "execution_count": 329,
   "id": "27bef5f6",
   "metadata": {},
   "outputs": [],
   "source": [
    "dfModel.drop(columns=['Abstract', 'References']).to_csv('data/modeling.csv', index_label='index')"
   ]
  },
  {
   "cell_type": "markdown",
   "id": "b02930b6",
   "metadata": {},
   "source": [
    "## Computing basic statistics"
   ]
  },
  {
   "cell_type": "markdown",
   "id": "680721a6",
   "metadata": {},
   "source": [
    "### Review"
   ]
  },
  {
   "cell_type": "code",
   "execution_count": 344,
   "id": "d8a6a22b",
   "metadata": {},
   "outputs": [],
   "source": [
    "sns.set_context(rc = {'patch.linewidth': 0.0})"
   ]
  },
  {
   "cell_type": "code",
   "execution_count": 353,
   "id": "af6e05fb",
   "metadata": {},
   "outputs": [
    {
     "data": {
      "image/png": "[encoded data removed]",
      "text/plain": [
       "<Figure size 936x504 with 1 Axes>"
      ]
     },
     "metadata": {
      "needs_background": "light"
     },
     "output_type": "display_data"
    }
   ],
   "source": [
    "plt.figure(figsize=(13, 7))\n",
    "sns.histplot(data=dfReview[dfReview.Year.notnull()], x='Year', stat='percent', bins=13, shrink=.8)\n",
    "\n",
    "plt.xticks(np.arange(2010.5, 2023.5, step=1), np.arange(2010, 2023, step=1)) \n",
    "plt.title('Meta-review - Histogram of Year of publication')\n",
    "plt.show()"
   ]
  },
  {
   "cell_type": "code",
   "execution_count": 356,
   "id": "b0ce579b",
   "metadata": {},
   "outputs": [
    {
     "data": {
      "image/png": "[encoded data removed]",
      "text/plain": [
       "<Figure size 1080x504 with 1 Axes>"
      ]
     },
     "metadata": {
      "needs_background": "light"
     },
     "output_type": "display_data"
    },
    {
     "name": "stdout",
     "output_type": "stream",
     "text": [
      "(-0.198, 5.051]       221\n",
      "(5.051, 10.103]        99\n",
      "(10.103, 15.154]       57\n",
      "(15.154, 20.205]       51\n",
      "(25.256, 30.308]       33\n",
      "(30.308, 35.359]       32\n",
      "(20.205, 25.256]       31\n",
      "(35.359, 40.41]        25\n",
      "(50.513, 55.564]       16\n",
      "(55.564, 60.615]       16\n",
      "(40.41, 45.462]        16\n",
      "(60.615, 65.667]       14\n",
      "(45.462, 50.513]       12\n",
      "(75.769, 80.821]       12\n",
      "(70.718, 75.769]       11\n",
      "(80.821, 85.872]        7\n",
      "(121.231, 126.282]      7\n",
      "(136.385, 141.436]      6\n",
      "(65.667, 70.718]        6\n",
      "(95.974, 101.026]       5\n",
      "(90.923, 95.974]        4\n",
      "(101.026, 106.077]      4\n",
      "(106.077, 111.128]      4\n",
      "(191.949, 197.0]        4\n",
      "(111.128, 116.179]      3\n",
      "(116.179, 121.231]      3\n",
      "(85.872, 90.923]        3\n",
      "(161.641, 166.692]      3\n",
      "(186.897, 191.949]      2\n",
      "(126.282, 131.333]      2\n",
      "(146.487, 151.538]      2\n",
      "(151.538, 156.59]       2\n",
      "(166.692, 171.744]      2\n",
      "(141.436, 146.487]      2\n",
      "(131.333, 136.385]      1\n",
      "(156.59, 161.641]       1\n",
      "(171.744, 176.795]      1\n",
      "(176.795, 181.846]      1\n",
      "(181.846, 186.897]      1\n",
      "Name: Number citation, dtype: int64\n",
      "More than  200 citations 31\n",
      "Removing less than 5 citations:  -32 papers\n"
     ]
    }
   ],
   "source": [
    "cut_line = 200\n",
    "\n",
    "plt.figure(figsize=(15, 7))\n",
    "\n",
    "sns.histplot(\n",
    "    data=dfReview[dfReview['Number citation'].notnull()], x='Number citation', stat='percent', bins=39, shrink=.8\n",
    ")\n",
    "\n",
    "plt.title('Meta-review - Histogram of Number of Citations')\n",
    "plt.minorticks_on()\n",
    "plt.grid()\n",
    "plt.show()\n",
    "\n",
    "print(dfReview[dfReview['Number citation'] < cut_line]['Number citation'].value_counts(bins=39))\n",
    "print('More than ', cut_line, 'citations', (dfReview['Number citation'] > cut_line).sum())\n",
    "print('Removing less than 5 citations: ', len(dfReview) - 881, 'papers')"
   ]
  },
  {
   "cell_type": "markdown",
   "id": "d4a98dd3",
   "metadata": {},
   "source": [
    "### Modeling"
   ]
  },
  {
   "cell_type": "code",
   "execution_count": 357,
   "id": "fc15dc57",
   "metadata": {},
   "outputs": [
    {
     "data": {
      "image/png": "[encoded data removed]",
      "text/plain": [
       "<Figure size 936x504 with 1 Axes>"
      ]
     },
     "metadata": {
      "needs_background": "light"
     },
     "output_type": "display_data"
    }
   ],
   "source": [
    "plt.figure(figsize=(13, 7))\n",
    "\n",
    "sns.histplot(data=dfModel[dfModel.Year.notnull()], x='Year', stat='percent', bins=18, shrink=.8)\n",
    "\n",
    "plt.xticks(np.arange(2005.5, 2023.5, step=1), np.arange(2005, 2023, step=1)) \n",
    "plt.title('Modeling - Histogram of Year of publication')\n",
    "plt.show()"
   ]
  },
  {
   "cell_type": "code",
   "execution_count": 355,
   "id": "26541a91",
   "metadata": {},
   "outputs": [
    {
     "data": {
      "image/png": "[encoded data removed]",
      "text/plain": [
       "<Figure size 1080x504 with 1 Axes>"
      ]
     },
     "metadata": {
      "needs_background": "light"
     },
     "output_type": "display_data"
    },
    {
     "name": "stdout",
     "output_type": "stream",
     "text": [
      "(-0.198, 5.051]       1990\n",
      "(5.051, 10.103]        789\n",
      "(10.103, 15.154]       527\n",
      "(15.154, 20.205]       347\n",
      "(20.205, 25.256]       245\n",
      "(25.256, 30.308]       218\n",
      "(30.308, 35.359]       143\n",
      "(35.359, 40.41]        140\n",
      "(40.41, 45.462]        107\n",
      "(50.513, 55.564]        75\n",
      "(45.462, 50.513]        73\n",
      "(55.564, 60.615]        57\n",
      "(60.615, 65.667]        47\n",
      "(65.667, 70.718]        38\n",
      "(70.718, 75.769]        31\n",
      "(75.769, 80.821]        24\n",
      "(80.821, 85.872]        24\n",
      "(85.872, 90.923]        20\n",
      "(90.923, 95.974]        19\n",
      "(95.974, 101.026]       15\n",
      "(106.077, 111.128]      13\n",
      "(116.179, 121.231]      13\n",
      "(131.333, 136.385]      11\n",
      "(101.026, 106.077]      11\n",
      "(141.436, 146.487]       9\n",
      "(126.282, 131.333]       7\n",
      "(151.538, 156.59]        7\n",
      "(111.128, 116.179]       6\n",
      "(121.231, 126.282]       6\n",
      "(171.744, 176.795]       6\n",
      "(161.641, 166.692]       5\n",
      "(156.59, 161.641]        4\n",
      "(191.949, 197.0]         4\n",
      "(136.385, 141.436]       3\n",
      "(186.897, 191.949]       3\n",
      "(146.487, 151.538]       2\n",
      "(176.795, 181.846]       2\n",
      "(166.692, 171.744]       1\n",
      "(181.846, 186.897]       1\n",
      "Name: Number citation, dtype: int64\n",
      "More than  200 citations 43\n",
      "Removing less than 5 citations:  3666 papers\n"
     ]
    }
   ],
   "source": [
    "cut_line = 200\n",
    "\n",
    "plt.figure(figsize=(15, 7))\n",
    "\n",
    "sns.histplot(\n",
    "    data=dfReview[dfReview['Number citation'].notnull()], x='Number citation', stat='percent', bins=39, shrink=.8\n",
    ")\n",
    "\n",
    "\n",
    "plt.title('Model - Histogram of Number of Citations')\n",
    "plt.minorticks_on()\n",
    "plt.grid()\n",
    "plt.show()\n",
    "\n",
    "print(dfModel[dfModel['Number citation'] < cut_line]['Number citation'].value_counts(bins=39))\n",
    "print('More than ', cut_line, 'citations', (dfModel['Number citation'] > cut_line).sum())\n",
    "print('Removing less than 5 citations: ', len(dfModel) - 2046, 'papers')"
   ]
  },
  {
   "cell_type": "code",
   "execution_count": null,
   "id": "52ec7026",
   "metadata": {},
   "outputs": [],
   "source": []
  }
 ],
 "metadata": {
  "kernelspec": {
   "display_name": "Python 3",
   "language": "python",
   "name": "python3"
  },
  "language_info": {
   "codemirror_mode": {
    "name": "ipython",
    "version": 3
   },
   "file_extension": ".py",
   "mimetype": "text/x-python",
   "name": "python",
   "nbconvert_exporter": "python",
   "pygments_lexer": "ipython3",
   "version": "3.6.9"
  }
 },
 "nbformat": 4,
 "nbformat_minor": 5
}
