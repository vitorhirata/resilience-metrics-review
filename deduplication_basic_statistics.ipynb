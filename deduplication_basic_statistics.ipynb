{
 "cells": [
  {
   "cell_type": "markdown",
   "id": "79d113b7",
   "metadata": {},
   "source": [
    "## Deduplication of review dataset\n",
    "\n",
    "We are using a deduplication by DOI."
   ]
  },
  {
   "cell_type": "code",
   "execution_count": 1,
   "id": "3288a4f2",
   "metadata": {},
   "outputs": [],
   "source": [
    "# Libraries used\n",
    "import pandas as pd\n",
    "import numpy as np\n",
    "import matplotlib.pyplot as plt\n",
    "import seaborn as sns"
   ]
  },
  {
   "cell_type": "code",
   "execution_count": 2,
   "id": "5ca493f2",
   "metadata": {},
   "outputs": [
    {
     "name": "stdout",
     "output_type": "stream",
     "text": [
      "Scopus len: 916 , removed 25 without DOI\n",
      "WoS len: 873 removed 11 without DOI\n",
      "Scopus columns: ['Authors' 'Author(s) ID' 'Title' 'Year' 'Source title' 'Volume' 'Issue'\n",
      " 'Art. No.' 'Page start' 'Page end' 'Page count' 'Cited by' 'DOI' 'Link'\n",
      " 'Affiliations' 'Authors with affiliations' 'Abstract' 'Author Keywords'\n",
      " 'Index Keywords' 'References' 'Editors' 'Publisher'\n",
      " 'Language of Original Document' 'Document Type' 'Publication Stage'\n",
      " 'Open Access' 'Source' 'EID']\n",
      "WoS columns: ['PT' 'AU' 'BA' 'BE' 'GP' 'AF' 'BF' 'CA' 'TI' 'SO' 'SE' 'BS' 'LA' 'DT'\n",
      " 'CT' 'CY' 'CL' 'SP' 'HO' 'DE' 'ID' 'AB' 'C1' 'C3' 'RP' 'EM' 'RI' 'OI'\n",
      " 'FU' 'FP' 'FX' 'CR' 'NR' 'TC' 'Z9' 'U1' 'U2' 'PU' 'PI' 'PA' 'SN' 'EI'\n",
      " 'BN' 'J9' 'JI' 'PD' 'PY' 'VL' 'IS' 'PN' 'SU' 'SI' 'MA' 'BP' 'EP' 'AR'\n",
      " 'DI' 'DL' 'D2' 'EA' 'PG' 'WC' 'WE' 'SC' 'GA' 'PM' 'OA' 'HC' 'HP' 'DA'\n",
      " 'UT' 'source']\n"
     ]
    }
   ],
   "source": [
    "# Read initial data\n",
    "dfReviewScopusOriginal = pd.read_csv('bulk_data/review_scopus.csv')\n",
    "dfReviewWOSOriginal = pd.read_csv('bulk_data/review_wos.csv', delimiter='\\t')\n",
    "\n",
    "## Fill source for WoS papers\n",
    "dfReviewWOSOriginal['source'] = 'Web of Science'\n",
    "\n",
    "## Remove papers without DOI\n",
    "dfReviewScopus = dfReviewScopusOriginal[dfReviewScopusOriginal['DOI'].notnull()]\n",
    "dfReviewWOS = dfReviewWOSOriginal[dfReviewWOSOriginal['DI'].notnull()]\n",
    "\n",
    "# Print size of dataframes and removed papers\n",
    "removed_scopus = len(dfReviewScopusOriginal) - len(dfReviewScopus)\n",
    "removed_WOS = len(dfReviewWOSOriginal) - len(dfReviewWOS)\n",
    "print('Scopus len:', len(dfReviewScopus), ', removed', removed_scopus, 'without DOI')\n",
    "print('WoS len:', len(dfReviewWOS), 'removed', removed_WOS, 'without DOI')\n",
    "\n",
    "# Print columns name\n",
    "print('Scopus columns:', dfReviewScopus.columns.values)\n",
    "print('WoS columns:', dfReviewWOS.columns.values)"
   ]
  },
  {
   "cell_type": "code",
   "execution_count": 3,
   "id": "bfa6e89a",
   "metadata": {},
   "outputs": [],
   "source": [
    "# Rename columns\n",
    "\n",
    "columns_scopus = [\n",
    "    'Title', 'Authors', 'DOI', 'Source title', 'Year', 'Cited by', \n",
    "    'Author Keywords', 'Affiliations', 'Abstract', 'References', 'Publisher', 'ISSN', \n",
    "    'Language of Original Document', 'Document Type', 'Source'\n",
    "]\n",
    "\n",
    "columns_wos = [\n",
    "    'TI', 'AU', 'DI', 'SO', 'PY', 'Z9', \n",
    "    'DE', 'C3', 'AB', 'CR', 'PU', 'SN', \n",
    "    'LA', 'DT', 'source'\n",
    "]\n",
    "\n",
    "final_columns = [\n",
    "    'title', 'authors', 'DOI', 'journal_name', 'year', 'number_citation', \n",
    "    'author_keywords', 'affiliations', 'abstract', 'references', 'publisher', 'ISSN', \n",
    "    'language', 'document_type', 'source'\n",
    "]\n",
    "\n",
    "drop_columns = set(dfReviewScopus.columns.values) - set(columns_scopus)\n",
    "rename_columns = dict(zip(columns_scopus, final_columns))\n",
    "dfReviewScopus = dfReviewScopus.drop(columns=drop_columns)\n",
    "dfReviewScopus = dfReviewScopus.rename(columns=rename_columns)\n",
    "\n",
    "drop_columns = set(dfReviewWOS.columns.values) - set(columns_wos)\n",
    "rename_columns = dict(zip(columns_wos, final_columns))\n",
    "dfReviewWOS = dfReviewWOS.drop(columns=drop_columns)\n",
    "dfReviewWOS = dfReviewWOS.rename(columns=rename_columns)"
   ]
  },
  {
   "cell_type": "code",
   "execution_count": 4,
   "id": "48a2d0a0",
   "metadata": {},
   "outputs": [],
   "source": [
    "# If the paper is duplicated in the databases complete missing values from Scopus using WoS. \n",
    "# Also mark duplicated papers.\n",
    "\n",
    "for idx, row in dfReviewScopus.iterrows():\n",
    "    dfReviewWOSDuplicate = dfReviewWOS.loc[dfReviewWOS['DOI']== row.DOI]\n",
    "    \n",
    "    if not dfReviewWOSDuplicate.empty:\n",
    "        dfReviewScopus.loc[idx, 'source'] = 'Scopus;Web of Science'\n",
    "\n",
    "        if pd.isna(row['year']) and pd.notna(dfReviewWOSDuplicate['year'].values[0]): \n",
    "            dfReviewScopus.loc[idx, 'year'] = dfReviewWOSDuplicate['year'].values[0]\n",
    "        if pd.isna(row['author_keywords']) and pd.notna(dfReviewWOSDuplicate['author_keywords'].values[0]): \n",
    "            dfReviewScopus.loc[idx, 'author_keywords'] = dfReviewWOSDuplicate['author_keywords'].values[0]\n",
    "        if pd.isna(row['number_citation']) and pd.notna(dfReviewWOSDuplicate['number_citation'].values[0]): \n",
    "            dfReviewScopus.loc[idx, 'number_citation'] = dfReviewWOSDuplicate['number_citation'].values[0]\n",
    "\n",
    "# Merge dataframes and remove duplicates by DOI \n",
    "dfReview = pd.concat([dfReviewScopus, dfReviewWOS], ignore_index=True)[final_columns]\n",
    "dfReview = dfReview.drop_duplicates(subset=['DOI'], keep='first')"
   ]
  },
  {
   "cell_type": "code",
   "execution_count": 5,
   "id": "47d61f97",
   "metadata": {},
   "outputs": [],
   "source": [
    "# Cleaning dataframe before saving\n",
    "\n",
    "# Add date of export\n",
    "dfReview['date_export'] = '2023-03-08'\n",
    "\n",
    "# Add link from DOI\n",
    "dfReview['link'] = 'https://dx.doi.org/' + dfReview['DOI']\n",
    "\n",
    "# Reset index\n",
    "dfReview.reset_index(drop=True, inplace=True)"
   ]
  },
  {
   "cell_type": "code",
   "execution_count": 6,
   "id": "49227294",
   "metadata": {},
   "outputs": [
    {
     "name": "stdout",
     "output_type": "stream",
     "text": [
      "Final length: 1199\n"
     ]
    }
   ],
   "source": [
    "# Print length of final dataset\n",
    "print('Final length:', len(dfReview))\n",
    "\n",
    "# Save dataset\n",
    "dfReview.to_csv('data/meta_review.csv', index_label='index')"
   ]
  },
  {
   "cell_type": "markdown",
   "id": "b02930b6",
   "metadata": {},
   "source": [
    "## Computing basic statistics of meta-review dataset"
   ]
  },
  {
   "cell_type": "code",
   "execution_count": 7,
   "id": "d8a6a22b",
   "metadata": {},
   "outputs": [],
   "source": [
    "sns.set_context(rc = {'patch.linewidth': 0.0})"
   ]
  },
  {
   "cell_type": "code",
   "execution_count": 8,
   "id": "af6e05fb",
   "metadata": {},
   "outputs": [
    {
     "data": {
      "image/png": "[encoded data removed]",
      "text/plain": [
       "<Figure size 936x504 with 1 Axes>"
      ]
     },
     "metadata": {
      "needs_background": "light"
     },
     "output_type": "display_data"
    }
   ],
   "source": [
    "plt.figure(figsize=(13, 7))\n",
    "sns.histplot(data=dfReview[dfReview.year.notnull()], x='year', stat='percent', bins=13, shrink=.8)\n",
    "\n",
    "plt.xticks(np.arange(2010.5, 2023.5, step=1), np.arange(2010, 2023, step=1)) \n",
    "plt.title('Meta-review - Histogram of Year of publication')\n",
    "plt.show()"
   ]
  },
  {
   "cell_type": "code",
   "execution_count": 9,
   "id": "b0ce579b",
   "metadata": {},
   "outputs": [
    {
     "data": {
      "image/png": "[encoded data removed]",
      "text/plain": [
       "<Figure size 1080x504 with 1 Axes>"
      ]
     },
     "metadata": {
      "needs_background": "light"
     },
     "output_type": "display_data"
    },
    {
     "name": "stdout",
     "output_type": "stream",
     "text": [
      "More than  200 citations 47\n",
      "Removing less than 5 citations:  318 papers\n"
     ]
    }
   ],
   "source": [
    "cut_line = 200\n",
    "\n",
    "plt.figure(figsize=(15, 7))\n",
    "\n",
    "sns.histplot(\n",
    "    data=dfReview[dfReview['number_citation'].notnull()], x='number_citation', stat='percent', bins=39, shrink=.8\n",
    ")\n",
    "\n",
    "plt.title('Meta-review - Histogram of Number of Citations')\n",
    "plt.minorticks_on()\n",
    "plt.grid()\n",
    "plt.show()\n",
    "\n",
    "print('More than ', cut_line, 'citations', (dfReview['number_citation'] > cut_line).sum())\n",
    "print('Removing less than 5 citations: ', len(dfReview) - 881, 'papers')"
   ]
  },
  {
   "cell_type": "code",
   "execution_count": null,
   "id": "a8a47b01",
   "metadata": {},
   "outputs": [],
   "source": []
  }
 ],
 "metadata": {
  "kernelspec": {
   "display_name": "Python 3",
   "language": "python",
   "name": "python3"
  },
  "language_info": {
   "codemirror_mode": {
    "name": "ipython",
    "version": 3
   },
   "file_extension": ".py",
   "mimetype": "text/x-python",
   "name": "python",
   "nbconvert_exporter": "python",
   "pygments_lexer": "ipython3",
   "version": "3.6.9"
  }
 },
 "nbformat": 4,
 "nbformat_minor": 5
}
